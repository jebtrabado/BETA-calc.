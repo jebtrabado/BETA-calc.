{
 "cells": [
  {
   "cell_type": "code",
   "execution_count": 203,
   "id": "b0f4e580",
   "metadata": {},
   "outputs": [],
   "source": [
    "import pandas as pd\n",
    "import numpy as np"
   ]
  },
  {
   "cell_type": "code",
   "execution_count": 204,
   "id": "e2aa7c19",
   "metadata": {},
   "outputs": [],
   "source": [
    "# READING CSV FILE TRANSFORMING TO STR FOR MERGING\n",
    "df1 = pd.read_csv(r'C:\\Users\\IT-LAP-0065\\ML\\BETA CALCULATOR WIP\\NIKL Historical Data.csv').astype(pd.StringDtype())\n",
    "df2 = pd.read_csv(r'C:\\Users\\IT-LAP-0065\\ML\\BETA CALCULATOR WIP\\PSEi Composite Historical Data.csv').astype(pd.StringDtype())"
   ]
  },
  {
   "cell_type": "code",
   "execution_count": 205,
   "id": "61098767",
   "metadata": {},
   "outputs": [],
   "source": [
    "# CLEAN UNNEEDED DATA\n",
    "df1 = df1.drop(columns = ['Open', 'Low', 'High', 'Vol.'])\n",
    "df2 = df2.drop(columns = ['Open', 'Low', 'High', 'Vol.'])"
   ]
  },
  {
   "cell_type": "code",
   "execution_count": 206,
   "id": "76180571",
   "metadata": {},
   "outputs": [],
   "source": [
    "df1 = df1[::-1].reset_index(drop = True)\n",
    "df2 = df2[::-1].reset_index(drop = True)"
   ]
  },
  {
   "cell_type": "code",
   "execution_count": 207,
   "id": "e5342ea1",
   "metadata": {},
   "outputs": [],
   "source": [
    "# MERGING DATAFRAME BASED ON DATE\n",
    "m_df = df1.merge(df2, how='inner', on='Date')"
   ]
  },
  {
   "cell_type": "code",
   "execution_count": 208,
   "id": "06d83545",
   "metadata": {},
   "outputs": [],
   "source": [
    "# REMOVES COMMAS FROM PRICE\n",
    "m_df['Price_x'] = m_df['Price_x'].replace(',','', regex=True)\n",
    "m_df['Price_y'] = m_df['Price_y'].replace(',','', regex=True)"
   ]
  },
  {
   "cell_type": "code",
   "execution_count": 209,
   "id": "6d6dabc3",
   "metadata": {},
   "outputs": [],
   "source": [
    "# TRANSFER PRICE TO ARRAY CONVERT TO FLOAT FOR COMPUTATIONS\n",
    "df1_add = m_df['Price_x'].astype(float).to_numpy()\n",
    "df2_add = m_df['Price_y'].astype(float).to_numpy()"
   ]
  },
  {
   "cell_type": "code",
   "execution_count": 210,
   "id": "8a4146b4",
   "metadata": {},
   "outputs": [],
   "source": [
    "# COMPUTATION OF CHANGE %\n",
    "change_1 = [0]\n",
    "n = df1_add[0]\n",
    "for x in range(1, len(df1_add)):\n",
    "    change_1.append(100 *((df1_add[x] / n) - 1))\n",
    "    n = df1_add[x]\n",
    "    \n",
    "change_2 = [0]\n",
    "n = df2_add[0]\n",
    "for x in range(1, len(df2_add)):\n",
    "    change_2.append(100 * ((df2_add[x] / n) - 1))\n",
    "    n = df2_add[x] "
   ]
  },
  {
   "cell_type": "code",
   "execution_count": 211,
   "id": "94b8c42c",
   "metadata": {},
   "outputs": [],
   "source": [
    "from scipy.stats import linregress"
   ]
  },
  {
   "cell_type": "code",
   "execution_count": 212,
   "id": "775939c0",
   "metadata": {},
   "outputs": [],
   "source": [
    "slope, intercept, r, p, se = linregress(change_2, change_1)"
   ]
  },
  {
   "cell_type": "code",
   "execution_count": 213,
   "id": "4c05ba96",
   "metadata": {},
   "outputs": [
    {
     "data": {
      "text/plain": [
       "0.6667504841697582"
      ]
     },
     "execution_count": 213,
     "metadata": {},
     "output_type": "execute_result"
    }
   ],
   "source": [
    "slope"
   ]
  },
  {
   "cell_type": "code",
   "execution_count": 214,
   "id": "e7c32b0e",
   "metadata": {},
   "outputs": [
    {
     "data": {
      "text/plain": [
       "0.6667504841697574"
      ]
     },
     "execution_count": 214,
     "metadata": {},
     "output_type": "execute_result"
    }
   ],
   "source": [
    "# MANUAL COMPUTATION OF SLOPE\n",
    "nu = 0\n",
    "de = 0\n",
    "\n",
    "for x in range(len(change_1)):\n",
    "    nu += (change_2[x] - np.average(change_2)) * (change_1[x] - np.average(change_1)) \n",
    "    de += (change_2[x] - np.average(change_2))**2\n",
    "    \n",
    "nu / de"
   ]
  }
 ],
 "metadata": {
  "kernelspec": {
   "display_name": "Python 3 (ipykernel)",
   "language": "python",
   "name": "python3"
  },
  "language_info": {
   "codemirror_mode": {
    "name": "ipython",
    "version": 3
   },
   "file_extension": ".py",
   "mimetype": "text/x-python",
   "name": "python",
   "nbconvert_exporter": "python",
   "pygments_lexer": "ipython3",
   "version": "3.9.12"
  }
 },
 "nbformat": 4,
 "nbformat_minor": 5
}
